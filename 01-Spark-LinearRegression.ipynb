{
 "cells": [
  {
   "cell_type": "markdown",
   "metadata": {},
   "source": [
    "# Spark MLLib - Regressão Linear"
   ]
  },
  {
   "cell_type": "markdown",
   "metadata": {},
   "source": [
    "### Usaremos Regressão Linear para prever os valores de MPG (Miles Per Gallon)"
   ]
  },
  {
   "cell_type": "markdown",
   "metadata": {},
   "source": [
    "MPG será a variável target e as demais variáveis serão as features (variáveis preditoras)."
   ]
  },
  {
   "cell_type": "code",
   "execution_count": 37,
   "metadata": {},
   "outputs": [],
   "source": [
    "# Imports\n",
    "from pyspark.sql import Row\n",
    "from pyspark.sql import SQLContext\n",
    "from pyspark.ml.linalg import Vectors\n",
    "from pyspark.ml.regression import LinearRegression\n",
    "from pyspark.ml.evaluation import RegressionEvaluator"
   ]
  },
  {
   "cell_type": "code",
   "execution_count": 2,
   "metadata": {},
   "outputs": [],
   "source": [
    "# Spark Session - usada quando se traballha com Dataframes no Spark\n",
    "spSession = SparkSession.builder.master(\"local\").appName(\"DSA-SparkMLLib\").getOrCreate()"
   ]
  },
  {
   "cell_type": "code",
   "execution_count": 3,
   "metadata": {},
   "outputs": [],
   "source": [
    "# Carregando os dados e gerando um RDD\n",
    "carrosRDD = sc.textFile(\"data/carros.csv\")"
   ]
  },
  {
   "cell_type": "code",
   "execution_count": 4,
   "metadata": {},
   "outputs": [
    {
     "data": {
      "text/plain": [
       "data/carros.csv MapPartitionsRDD[1] at textFile at NativeMethodAccessorImpl.java:0"
      ]
     },
     "execution_count": 4,
     "metadata": {},
     "output_type": "execute_result"
    }
   ],
   "source": [
    "# Colocando o RDD em cache. Esse processo otimiza a performace.\n",
    "carrosRDD.cache()"
   ]
  },
  {
   "cell_type": "code",
   "execution_count": 5,
   "metadata": {},
   "outputs": [
    {
     "data": {
      "text/plain": [
       "399"
      ]
     },
     "execution_count": 5,
     "metadata": {},
     "output_type": "execute_result"
    }
   ],
   "source": [
    "# Números de linhas\n",
    "carrosRDD.count()"
   ]
  },
  {
   "cell_type": "code",
   "execution_count": 6,
   "metadata": {},
   "outputs": [
    {
     "data": {
      "text/plain": [
       "['MPG,CYLINDERS,DISPLACEMENT,HORSEPOWER,WEIGHT,ACCELERATION,MODELYEAR,NAME',\n",
       " '18,8,307,130,3504,12,70,chevrolet chevelle malibu',\n",
       " '15,8,350,165,3693,11.5,70,buick skylark 320',\n",
       " '18,8,318,150,3436,11,70,plymouth satellite',\n",
       " '16,8,304,150,3433,12,70,amc rebel sst']"
      ]
     },
     "execution_count": 6,
     "metadata": {},
     "output_type": "execute_result"
    }
   ],
   "source": [
    "# Vizualizando as 5 primeira linhas\n",
    "carrosRDD.take(5)"
   ]
  },
  {
   "cell_type": "code",
   "execution_count": 7,
   "metadata": {},
   "outputs": [
    {
     "data": {
      "text/plain": [
       "['18,8,307,130,3504,12,70,chevrolet chevelle malibu',\n",
       " '15,8,350,165,3693,11.5,70,buick skylark 320',\n",
       " '18,8,318,150,3436,11,70,plymouth satellite',\n",
       " '16,8,304,150,3433,12,70,amc rebel sst',\n",
       " '17,8,302,140,3449,10.5,70,ford torino']"
      ]
     },
     "execution_count": 7,
     "metadata": {},
     "output_type": "execute_result"
    }
   ],
   "source": [
    "# Removendo a primeira linha do arquivo (cabeçalho)\n",
    "carrosRDD2 = carrosRDD.filter(lambda x: \"MPG\" not in x)\n",
    "carrosRDD2.take(5)"
   ]
  },
  {
   "cell_type": "code",
   "execution_count": 8,
   "metadata": {},
   "outputs": [
    {
     "data": {
      "text/plain": [
       "398"
      ]
     },
     "execution_count": 8,
     "metadata": {},
     "output_type": "execute_result"
    }
   ],
   "source": [
    "carrosRDD2.count()"
   ]
  },
  {
   "cell_type": "markdown",
   "metadata": {},
   "source": [
    "## Limpeza dos Dados"
   ]
  },
  {
   "cell_type": "code",
   "execution_count": 39,
   "metadata": {},
   "outputs": [
    {
     "data": {
      "text/plain": [
       "['18,8,307,130,3504,12,70,chevrolet chevelle malibu',\n",
       " '15,8,350,165,3693,11.5,70,buick skylark 320',\n",
       " '18,8,318,150,3436,11,70,plymouth satellite',\n",
       " '16,8,304,150,3433,12,70,amc rebel sst',\n",
       " '17,8,302,140,3449,10.5,70,ford torino',\n",
       " '15,8,429,198,4341,10,70,ford galaxie 500',\n",
       " '14,8,454,220,4354,9,70,chevrolet impala',\n",
       " '14,8,440,215,4312,8.5,70,plymouth fury iii',\n",
       " '14,8,455,225,4425,10,70,pontiac catalina',\n",
       " '15,8,390,190,3850,8.5,70,amc ambassador dpl']"
      ]
     },
     "execution_count": 39,
     "metadata": {},
     "output_type": "execute_result"
    }
   ],
   "source": [
    "carrosRDD2.take(10)"
   ]
  },
  {
   "cell_type": "code",
   "execution_count": 10,
   "metadata": {},
   "outputs": [],
   "source": [
    "# Usando um valor padrão para average HP (que será usado para preencher os valores missing) \n",
    "mediaHP = sc.broadcast(75.0)"
   ]
  },
  {
   "cell_type": "code",
   "execution_count": 11,
   "metadata": {},
   "outputs": [],
   "source": [
    "# Função para limpezza dos dados\n",
    "def limpaDados(inputStr):\n",
    "    \n",
    "    global mediaHP\n",
    "    attList = inputStr.split(\",\")\n",
    "    \n",
    "    # Substituir o caracter ? por um valor\n",
    "    hpValue = attList[3]\n",
    "    if hpValue == \"?\":\n",
    "        hpValue = mediaHP.value\n",
    "        \n",
    "    # Criando um linha usando a função Row, limpando e convertendo os dados de string para float\n",
    "    linhas = Row(MPG = float(attList[0]), CYLINDERS = float(attList[1]), DISPLACEMENT = float(attList[2]), \n",
    "                 HORSEPOWER = float(hpValue), WEIGHT = float(attList[4]), ACCELERATION = float(attList[5]), \n",
    "                 MODELYEAR = float(attList[6]), NAME = attList[7]) \n",
    "    return linhas"
   ]
  },
  {
   "cell_type": "code",
   "execution_count": 12,
   "metadata": {},
   "outputs": [
    {
     "data": {
      "text/plain": [
       "[Row(MPG=18.0, CYLINDERS=8.0, DISPLACEMENT=307.0, HORSEPOWER=130.0, WEIGHT=3504.0, ACCELERATION=12.0, MODELYEAR=70.0, NAME='chevrolet chevelle malibu'),\n",
       " Row(MPG=15.0, CYLINDERS=8.0, DISPLACEMENT=350.0, HORSEPOWER=165.0, WEIGHT=3693.0, ACCELERATION=11.5, MODELYEAR=70.0, NAME='buick skylark 320'),\n",
       " Row(MPG=18.0, CYLINDERS=8.0, DISPLACEMENT=318.0, HORSEPOWER=150.0, WEIGHT=3436.0, ACCELERATION=11.0, MODELYEAR=70.0, NAME='plymouth satellite'),\n",
       " Row(MPG=16.0, CYLINDERS=8.0, DISPLACEMENT=304.0, HORSEPOWER=150.0, WEIGHT=3433.0, ACCELERATION=12.0, MODELYEAR=70.0, NAME='amc rebel sst'),\n",
       " Row(MPG=17.0, CYLINDERS=8.0, DISPLACEMENT=302.0, HORSEPOWER=140.0, WEIGHT=3449.0, ACCELERATION=10.5, MODELYEAR=70.0, NAME='ford torino')]"
      ]
     },
     "execution_count": 12,
     "metadata": {},
     "output_type": "execute_result"
    }
   ],
   "source": [
    "# Executando a função no RDD\n",
    "carrosRDD3 = carrosRDD2.map(limpaDados)\n",
    "carrosRDD3.cache()\n",
    "carrosRDD3.take(5)"
   ]
  },
  {
   "cell_type": "markdown",
   "metadata": {},
   "source": [
    "## Análise Exploratória de Dados"
   ]
  },
  {
   "cell_type": "code",
   "execution_count": 13,
   "metadata": {},
   "outputs": [],
   "source": [
    "# Criando um DataFrame\n",
    "carrosDF1 = spSession.createDataFrame(carrosRDD3)"
   ]
  },
  {
   "cell_type": "code",
   "execution_count": 14,
   "metadata": {},
   "outputs": [
    {
     "name": "stdout",
     "output_type": "stream",
     "text": [
      "+----+---------+------------+----------+------+------------+---------+--------------------+\n",
      "| MPG|CYLINDERS|DISPLACEMENT|HORSEPOWER|WEIGHT|ACCELERATION|MODELYEAR|                NAME|\n",
      "+----+---------+------------+----------+------+------------+---------+--------------------+\n",
      "|18.0|      8.0|       307.0|     130.0|3504.0|        12.0|     70.0|chevrolet chevell...|\n",
      "|15.0|      8.0|       350.0|     165.0|3693.0|        11.5|     70.0|   buick skylark 320|\n",
      "|18.0|      8.0|       318.0|     150.0|3436.0|        11.0|     70.0|  plymouth satellite|\n",
      "|16.0|      8.0|       304.0|     150.0|3433.0|        12.0|     70.0|       amc rebel sst|\n",
      "|17.0|      8.0|       302.0|     140.0|3449.0|        10.5|     70.0|         ford torino|\n",
      "+----+---------+------------+----------+------+------------+---------+--------------------+\n",
      "only showing top 5 rows\n",
      "\n"
     ]
    }
   ],
   "source": [
    "# Vizualizando \n",
    "carrosDF1.select(\"*\").show(5)"
   ]
  },
  {
   "cell_type": "code",
   "execution_count": 16,
   "metadata": {},
   "outputs": [
    {
     "name": "stdout",
     "output_type": "stream",
     "text": [
      "Correlação da variável MPG com MPG 1.0\n",
      "Correlação da variável MPG com CYLINDERS -0.7753962854205539\n",
      "Correlação da variável MPG com DISPLACEMENT -0.8042028248058979\n",
      "Correlação da variável MPG com HORSEPOWER -0.7747041523498721\n",
      "Correlação da variável MPG com WEIGHT -0.8317409332443344\n",
      "Correlação da variável MPG com ACCELERATION 0.42028891210165054\n",
      "Correlação da variável MPG com MODELYEAR 0.5792671330833092\n"
     ]
    }
   ],
   "source": [
    "# Encontrando a correlação entre a variável target com as variáveis preditoras\n",
    "for i in carrosDF1.columns:\n",
    "    if not(isinstance(carrosDF1.select(i).take(1)[0][0], str)):\n",
    "        print(\"Correlação da variável MPG com\", i, carrosDF1.stat.corr(\"MPG\", i))"
   ]
  },
  {
   "cell_type": "code",
   "execution_count": 17,
   "metadata": {},
   "outputs": [
    {
     "name": "stdout",
     "output_type": "stream",
     "text": [
      "+-------+------------------+------------------+------------------+-----------------+\n",
      "|summary|               MPG|      ACCELERATION|      DISPLACEMENT|           WEIGHT|\n",
      "+-------+------------------+------------------+------------------+-----------------+\n",
      "|  count|               398|               398|               398|              398|\n",
      "|   mean|23.514572864321615|15.568090452261291|193.42587939698493|2970.424623115578|\n",
      "| stddev| 7.815984312565783| 2.757688929812676|104.26983817119587|846.8417741973268|\n",
      "|    min|               9.0|               8.0|              68.0|           1613.0|\n",
      "|    max|              46.6|              24.8|             455.0|           5140.0|\n",
      "+-------+------------------+------------------+------------------+-----------------+\n",
      "\n"
     ]
    }
   ],
   "source": [
    "# Estatísticas descrítivas\n",
    "carrosDF1.select(\"MPG\",\"ACCELERATION\",\"DISPLACEMENT\",\"WEIGHT\").describe().show()"
   ]
  },
  {
   "cell_type": "markdown",
   "metadata": {},
   "source": [
    "## Pré-Processamento dos Dados"
   ]
  },
  {
   "cell_type": "code",
   "execution_count": 18,
   "metadata": {},
   "outputs": [],
   "source": [
    "# Convertendo para um LabeledPoint (target, Vactor[features])\n",
    "# Removendo colunbas não relevantes para o moelo ou com baixa correlação\n",
    "def transformaVar(row):\n",
    "    obj = (row[\"MPG\"], Vectors.dense([row[\"ACCELERATION\"], row[\"DISPLACEMENT\"], row[\"WEIGHT\"]]))\n",
    "    return obj"
   ]
  },
  {
   "cell_type": "code",
   "execution_count": 19,
   "metadata": {},
   "outputs": [
    {
     "name": "stdout",
     "output_type": "stream",
     "text": [
      "+-----+-------------------+\n",
      "|label|           features|\n",
      "+-----+-------------------+\n",
      "| 18.0|[12.0,307.0,3504.0]|\n",
      "| 15.0|[11.5,350.0,3693.0]|\n",
      "| 18.0|[11.0,318.0,3436.0]|\n",
      "| 16.0|[12.0,304.0,3433.0]|\n",
      "| 17.0|[10.5,302.0,3449.0]|\n",
      "| 15.0|[10.0,429.0,4341.0]|\n",
      "| 14.0| [9.0,454.0,4354.0]|\n",
      "| 14.0| [8.5,440.0,4312.0]|\n",
      "| 14.0|[10.0,455.0,4425.0]|\n",
      "| 15.0| [8.5,390.0,3850.0]|\n",
      "+-----+-------------------+\n",
      "only showing top 10 rows\n",
      "\n"
     ]
    }
   ],
   "source": [
    "# Utilizando o RDD, palica a função, converte para DataFrame e palica a função select()\n",
    "carrosRDD4 = carrosRDD3.map(transformaVar)\n",
    "carrosDF = spSession.createDataFrame(carrosRDD4,[\"label\", \"features\"])\n",
    "carrosDF.select(\"label\", \"features\").show(10)"
   ]
  },
  {
   "cell_type": "code",
   "execution_count": 20,
   "metadata": {},
   "outputs": [
    {
     "data": {
      "text/plain": [
       "[(18.0, DenseVector([12.0, 307.0, 3504.0])),\n",
       " (15.0, DenseVector([11.5, 350.0, 3693.0])),\n",
       " (18.0, DenseVector([11.0, 318.0, 3436.0])),\n",
       " (16.0, DenseVector([12.0, 304.0, 3433.0])),\n",
       " (17.0, DenseVector([10.5, 302.0, 3449.0]))]"
      ]
     },
     "execution_count": 20,
     "metadata": {},
     "output_type": "execute_result"
    }
   ],
   "source": [
    "carrosRDD4.take(5)"
   ]
  },
  {
   "cell_type": "markdown",
   "metadata": {},
   "source": [
    "## Machine Learning"
   ]
  },
  {
   "cell_type": "code",
   "execution_count": 22,
   "metadata": {},
   "outputs": [],
   "source": [
    "# Dados de Treino e de Teste\n",
    "(dados_treino, dados_teste) = carrosDF.randomSplit([0.7,0.3])"
   ]
  },
  {
   "cell_type": "code",
   "execution_count": 23,
   "metadata": {},
   "outputs": [
    {
     "data": {
      "text/plain": [
       "279"
      ]
     },
     "execution_count": 23,
     "metadata": {},
     "output_type": "execute_result"
    }
   ],
   "source": [
    "dados_treino.count()"
   ]
  },
  {
   "cell_type": "code",
   "execution_count": 24,
   "metadata": {},
   "outputs": [
    {
     "data": {
      "text/plain": [
       "119"
      ]
     },
     "execution_count": 24,
     "metadata": {},
     "output_type": "execute_result"
    }
   ],
   "source": [
    "dados_teste.count()"
   ]
  },
  {
   "cell_type": "code",
   "execution_count": 25,
   "metadata": {},
   "outputs": [],
   "source": [
    "# Treinamento e criação do modelo\n",
    "linearReg = LinearRegression(maxIter = 10)\n",
    "modelo = linearReg.fit(dados_treino)"
   ]
  },
  {
   "cell_type": "code",
   "execution_count": 26,
   "metadata": {},
   "outputs": [
    {
     "name": "stdout",
     "output_type": "stream",
     "text": [
      "LinearRegressionModel: uid=LinearRegression_da65f2a57539, numFeatures=3\n"
     ]
    }
   ],
   "source": [
    "print(modelo)"
   ]
  },
  {
   "cell_type": "code",
   "execution_count": 27,
   "metadata": {},
   "outputs": [
    {
     "name": "stdout",
     "output_type": "stream",
     "text": [
      "Coeficientes: [0.1587199090492492,-0.008287347950874687,-0.006493145439454635]\n",
      "Intercepto: 41.934345241874695\n"
     ]
    }
   ],
   "source": [
    "# Imprimindo as métricas\n",
    "print(\"Coeficientes: \" + str(modelo.coefficients))\n",
    "print(\"Intercepto: \" + str(modelo.intercept))"
   ]
  },
  {
   "cell_type": "code",
   "execution_count": 29,
   "metadata": {},
   "outputs": [
    {
     "name": "stdout",
     "output_type": "stream",
     "text": [
      "+-------------------+------------------+\n",
      "|           features|        prediction|\n",
      "+-------------------+------------------+\n",
      "|[18.5,304.0,4732.0]|11.625745562720567|\n",
      "|[11.5,383.0,4955.0]| 8.412034278258346|\n",
      "|[12.5,350.0,4499.0]|11.805110990077772|\n",
      "|[12.0,302.0,3169.0]|20.759427171669795|\n",
      "|[12.0,400.0,4464.0]| 11.53864372839032|\n",
      "|[12.0,400.0,5140.0]| 7.149277411318991|\n",
      "|[12.5,400.0,4422.0]|11.890715791372042|\n",
      "|[13.0,360.0,4654.0]|10.795159921978176|\n",
      "|[13.2,318.0,3940.0]|15.811078361495376|\n",
      "|[14.5,350.0,4699.0]|10.823921720285341|\n",
      "|[15.0,302.0,3870.0]| 16.68389194575984|\n",
      "| [8.5,440.0,4312.0]|11.638588235480068|\n",
      "|[10.0,455.0,3086.0]|  19.7129541885622|\n",
      "|[12.0,350.0,4209.0]|13.608763212994987|\n",
      "|[13.5,351.0,4154.0]|14.195678727787993|\n",
      "|[14.5,302.0,4042.0]| 15.48771097564902|\n",
      "| [9.5,400.0,3761.0]|15.706525199703805|\n",
      "|[12.5,304.0,3892.0]| 16.12766827756697|\n",
      "|[13.5,318.0,4135.0]|14.592530973516496|\n",
      "|[13.7,318.0,4140.0]|14.591809228129073|\n",
      "+-------------------+------------------+\n",
      "only showing top 20 rows\n",
      "\n"
     ]
    }
   ],
   "source": [
    "# Previsões com dados de teste\n",
    "predictions = modelo.transform(dados_teste)\n",
    "predictions.select(\"features\", \"prediction\").show()"
   ]
  },
  {
   "cell_type": "code",
   "execution_count": 33,
   "metadata": {},
   "outputs": [
    {
     "name": "stdout",
     "output_type": "stream",
     "text": [
      "O Modelo apresenta Acuracidade de 71.12316606711612\n"
     ]
    }
   ],
   "source": [
    "# Coeficiente de determinação R2\n",
    "avaliador = RegressionEvaluator(predictionCol= \"prediction\", labelCol=\"label\", metricName=\"r2\")\n",
    "r2 = avaliador.evaluate(predictions)\n",
    "\n",
    "print(\"O Modelo apresenta Acuracidade de \" + str(r2*100))"
   ]
  }
 ],
 "metadata": {
  "kernelspec": {
   "display_name": "Python 3",
   "language": "python",
   "name": "python3"
  },
  "language_info": {
   "codemirror_mode": {
    "name": "ipython",
    "version": 3
   },
   "file_extension": ".py",
   "mimetype": "text/x-python",
   "name": "python",
   "nbconvert_exporter": "python",
   "pygments_lexer": "ipython3",
   "version": "3.8.5"
  }
 },
 "nbformat": 4,
 "nbformat_minor": 4
}
